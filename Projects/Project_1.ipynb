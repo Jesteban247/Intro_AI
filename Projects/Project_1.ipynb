{
  "nbformat": 4,
  "nbformat_minor": 0,
  "metadata": {
    "colab": {
      "provenance": [],
      "authorship_tag": "ABX9TyNVi0rJR8hYLzZlwcqBXgk7",
      "include_colab_link": true
    },
    "kernelspec": {
      "name": "python3",
      "display_name": "Python 3"
    },
    "language_info": {
      "name": "python"
    }
  },
  "cells": [
    {
      "cell_type": "markdown",
      "metadata": {
        "id": "view-in-github",
        "colab_type": "text"
      },
      "source": [
        "<a href=\"https://colab.research.google.com/github/Jesteban247/Intro_AI/blob/main/Projects/Project_1.ipynb\" target=\"_parent\"><img src=\"https://colab.research.google.com/assets/colab-badge.svg\" alt=\"Open In Colab\"/></a>"
      ]
    },
    {
      "cell_type": "markdown",
      "source": [
        "# **Introduction**"
      ],
      "metadata": {
        "id": "h3VNOZKmH7lE"
      }
    },
    {
      "cell_type": "markdown",
      "source": [
        "Based on the problem. we have two possible solutions.\n",
        "\n",
        "* The first one is less efficient because it provides a list of heuristics to the A* algorithm based on the distance to achieve the node through various movements. This approach is less efficient and will waste resources.\n",
        "\n",
        "* The second solution is better because it calculates the A* algorithm based on the Manhattan distance, which is a heuristic that is close to the actual distance. This approach is more efficient and will waste fewer resources compared to the first solution, which provides a list of heuristics to the A* algorithm based on the distance to achieve the node through various movements."
      ],
      "metadata": {
        "id": "IBgcG7cqH2tx"
      }
    },
    {
      "cell_type": "markdown",
      "source": [
        "# **Libraries**"
      ],
      "metadata": {
        "id": "WqqymWo5mv2T"
      }
    },
    {
      "cell_type": "code",
      "source": [
        "import numpy as np\n",
        "import matplotlib.pyplot as plt\n",
        "import networkx as nx\n",
        "import heapq\n",
        "\n",
        "from matplotlib.colors import ListedColormap\n",
        "from collections import deque"
      ],
      "metadata": {
        "id": "VHmmR2e_mwR4"
      },
      "execution_count": 132,
      "outputs": []
    },
    {
      "cell_type": "code",
      "source": [
        "from google.colab import drive\n",
        "drive.mount('/content/drive')"
      ],
      "metadata": {
        "colab": {
          "base_uri": "https://localhost:8080/"
        },
        "id": "FgjTtqpbDoj8",
        "outputId": "2e0df5a0-517b-4769-e435-4e857cdc487f"
      },
      "execution_count": 121,
      "outputs": [
        {
          "output_type": "stream",
          "name": "stdout",
          "text": [
            "Mounted at /content/drive\n"
          ]
        }
      ]
    },
    {
      "cell_type": "markdown",
      "source": [
        "# **Solution 1**"
      ],
      "metadata": {
        "id": "zR0PLQH-ASYH"
      }
    },
    {
      "cell_type": "markdown",
      "source": [
        "## Class Graph"
      ],
      "metadata": {
        "id": "afXEkRgOC7Xp"
      }
    },
    {
      "cell_type": "markdown",
      "source": [
        "This class represents a graph data structure and includes methods for adding edges and node information, printing the graph, performing breadth-first search (BFS), depth-first search (DFS), generating heuristic values, calculating heuristic values, finding shortest path lengths, and implementing the A* algorithm. Each method is commented to explain its purpose and functionality."
      ],
      "metadata": {
        "id": "eDUHpYRSI9mN"
      }
    },
    {
      "cell_type": "code",
      "source": [
        "class Graph:\n",
        "    def __init__(self):\n",
        "        # Initialize the adjacency list and node information dictionary\n",
        "        self.adj_list = {}\n",
        "        self.node_info = {}\n",
        "\n",
        "    def add_edge(self, node1, node2):\n",
        "        # Add an edge between node1 and node2\n",
        "        if node1 in self.adj_list:\n",
        "            self.adj_list[node1].append(node2)\n",
        "        else:\n",
        "            self.adj_list[node1] = [node2]\n",
        "\n",
        "    def add_node_info(self, node, info):\n",
        "        # Add information to a node\n",
        "        self.node_info[node] = info\n",
        "\n",
        "    def print_graph(self):\n",
        "        # Print the graph as adjacency lists\n",
        "        for node, neighbors in self.adj_list.items():\n",
        "            print(f\"Node {node}:\", neighbors)\n",
        "\n",
        "    # Breadth-First Search (BFS)\n",
        "    def bfs(self, start_node, goal_node):\n",
        "        visited = set()\n",
        "        queue = deque([(start_node, [start_node])])\n",
        "        visited_order = []\n",
        "        while queue:\n",
        "            current_node, path = queue.popleft()\n",
        "            visited_order.append(current_node)\n",
        "            if current_node == goal_node:\n",
        "                print(\"Visited nodes:\", ', '.join(map(str, visited_order)))\n",
        "                print(\"Path:\", ' -> '.join(map(str, path)))\n",
        "                return True\n",
        "            visited.add(current_node)\n",
        "            for neighbor in self.adj_list.get(current_node, []):\n",
        "                if neighbor not in visited:\n",
        "                    queue.append((neighbor, path + [neighbor]))\n",
        "        print(\"No path found\")\n",
        "        return False\n",
        "\n",
        "    # Depth-First Search (DFS)\n",
        "    def dfs(self, start_node, goal_node):\n",
        "        visited = set()\n",
        "        stack = [(start_node, [start_node])]\n",
        "        visited_order = []\n",
        "        while stack:\n",
        "            current_node, path = stack.pop()\n",
        "            visited_order.append(current_node)\n",
        "            if current_node == goal_node:\n",
        "                print(\"Visited nodes:\", ', '.join(map(str, visited_order)))\n",
        "                print(\"Path:\", ' -> '.join(map(str, path)))\n",
        "                return True\n",
        "            visited.add(current_node)\n",
        "            for neighbor in self.adj_list.get(current_node, []):\n",
        "                if neighbor not in visited:\n",
        "                    stack.append((neighbor, path + [neighbor]))\n",
        "        print(\"No path found\")\n",
        "        return False\n",
        "\n",
        "    # Heuristic functions\n",
        "    def generate_heuristic_list(self, goal_node):\n",
        "        # Generate heuristic values for all nodes based on the goal node\n",
        "        heuristic_list = {}\n",
        "        for node in self.adj_list:\n",
        "            heuristic_list[node] = self.heuristic(node, goal_node)\n",
        "        return heuristic_list\n",
        "\n",
        "    def heuristic(self, node, goal):\n",
        "        # Calculate the heuristic value for a node based on the goal node\n",
        "        if node == goal:\n",
        "            return 0  # If the node is the goal, heuristic value is 0\n",
        "        elif node not in self.adj_list or goal not in self.adj_list:\n",
        "            return float('inf')  # If either node or goal is not reachable, return infinity\n",
        "        else:\n",
        "            # Calculate the shortest path distance (number of edges) from node to goal\n",
        "            shortest_path = self.shortest_path_length(node, goal)\n",
        "            return shortest_path\n",
        "\n",
        "    def shortest_path_length(self, start, goal):\n",
        "        # Calculate the shortest path length from start node to goal node using BFS\n",
        "        visited = set()\n",
        "        queue = [(start, 0)]  # (node, distance)\n",
        "        while queue:\n",
        "            node, distance = queue.pop(0)\n",
        "            if node == goal:\n",
        "                return distance\n",
        "            visited.add(node)\n",
        "            for neighbor in self.adj_list.get(node, []):\n",
        "                if neighbor not in visited:\n",
        "                    queue.append((neighbor, distance + 1))\n",
        "        return float('inf')  # Return infinity if no path found\n",
        "\n",
        "    # A* algorithm\n",
        "    def a_star(self, start_node, goal_node, heuristic_list):\n",
        "        open_list = [(start_node, 0, heuristic_list[start_node], [])]  # (node, real_cost, estimated_cost, path)\n",
        "        closed_set = set()\n",
        "        while open_list:\n",
        "            current_node, real_cost, estimated_cost, path = min(open_list, key=lambda x: x[1] + x[2])\n",
        "            open_list.remove((current_node, real_cost, estimated_cost, path))\n",
        "            closed_set.add(current_node)\n",
        "            path = path + [current_node]\n",
        "            if current_node == goal_node:\n",
        "                return path\n",
        "            for neighbor in self.adj_list.get(current_node, []):\n",
        "                if neighbor in closed_set:\n",
        "                    continue\n",
        "                new_real_cost = real_cost + 1  # Assuming uniform edge cost of 1\n",
        "                new_estimated_cost = heuristic_list[neighbor]\n",
        "                new_path = path[:]\n",
        "                if (neighbor,) in open_list:\n",
        "                    index = open_list.index((neighbor,))\n",
        "                    if open_list[index][1] + open_list[index][2] > new_real_cost + new_estimated_cost:\n",
        "                        open_list[index] = (neighbor, new_real_cost, new_estimated_cost, new_path)\n",
        "                else:\n",
        "                    open_list.append((neighbor, new_real_cost, new_estimated_cost, new_path))\n",
        "        return None\n"
      ],
      "metadata": {
        "id": "tAR2PGHzI-w9"
      },
      "execution_count": 137,
      "outputs": []
    },
    {
      "cell_type": "markdown",
      "source": [
        "## Class Maze"
      ],
      "metadata": {
        "id": "hcW7AalkDO-V"
      }
    },
    {
      "cell_type": "markdown",
      "source": [
        "This class, MazeGraphBuilder, is responsible for constructing a graph representation of a maze based on a given matrix and its corresponding labels. It uses the Graph class defined earlier to build the graph. The maze can be visualized using the visualize_maze method, and the solution path can be highlighted using the solution_maze method."
      ],
      "metadata": {
        "id": "Y8qKt6shJXY_"
      }
    },
    {
      "cell_type": "code",
      "source": [
        "class MazeGraphBuilder:\n",
        "    def __init__(self, matrix, labels):\n",
        "        # Initialize the MazeGraphBuilder with the given matrix and labels\n",
        "        self.matrix = matrix\n",
        "        self.labels = labels\n",
        "        self.graph = Graph()  # Initialize a Graph object to build the maze graph\n",
        "        self.build_graph()  # Build the graph from the matrix and labels\n",
        "\n",
        "    def build_graph(self):\n",
        "        # Build the graph based on the matrix and labels\n",
        "        directions = [(0, 1), (0, -1), (1, 0), (-1, 0)]  # Define the possible movement directions\n",
        "        rows = len(self.matrix)\n",
        "        cols = len(self.matrix[0])\n",
        "\n",
        "        # Iterate over each cell in the matrix\n",
        "        for i in range(rows):\n",
        "            for j in range(cols):\n",
        "                label = self.labels[i][j]  # Get the label of the current cell\n",
        "                if self.matrix[i][j] in [2, 0, 3]:  # Check if the cell is traversable (2, 0, or 3)\n",
        "                    node_info = {'label': label, 'value': self.matrix[i][j]}\n",
        "                    self.graph.add_node_info(label, node_info)  # Add node info to the graph\n",
        "                    # Check neighboring cells for traversability and add edges accordingly\n",
        "                    for dx, dy in directions:\n",
        "                        ni, nj = i + dx, j + dy\n",
        "                        if 0 <= ni < rows and 0 <= nj < cols:\n",
        "                            neighbor_label = self.labels[ni][nj]\n",
        "                            if self.matrix[ni][nj] in [2, 0, 3]:\n",
        "                                self.graph.add_edge(label, neighbor_label)\n",
        "\n",
        "    def get_graph(self):\n",
        "        # Return the constructed graph\n",
        "        return self.graph\n",
        "\n",
        "    def visualize_maze(self):\n",
        "        # Visualize the maze represented by the matrix and labels\n",
        "        cmap = plt.cm.colors.ListedColormap(['white', 'blue', 'yellow', 'green'])  # Define colors\n",
        "        bounds = [0, 1, 2, 3, 4]\n",
        "        norm = plt.cm.colors.BoundaryNorm(bounds, cmap.N)  # Define normalization\n",
        "        plt.imshow(self.matrix, cmap=cmap, norm=norm, interpolation='nearest')  # Display maze matrix\n",
        "\n",
        "        # Add labels to the plot\n",
        "        for i in range(len(self.matrix)):\n",
        "            for j in range(len(self.matrix[i])):\n",
        "                label = self.labels[i][j]\n",
        "                plt.text(j, i, str(label), ha='center', va='center', color='black')\n",
        "\n",
        "        plt.axis('off')  # Remove the axis\n",
        "        plt.show()\n",
        "\n",
        "    def solution_maze(self, shortest_path):\n",
        "        # Visualize the maze with the solution path highlighted\n",
        "        cmap = plt.cm.colors.ListedColormap(['white', 'blue', 'yellow', 'green', 'red'])  # Define colors\n",
        "        bounds = [0, 1, 2, 3, 4, 5]\n",
        "        norm = plt.cm.colors.BoundaryNorm(bounds, cmap.N)  # Define normalization\n",
        "        plt.imshow(self.matrix, cmap=cmap, norm=norm, interpolation='nearest')  # Display maze matrix\n",
        "\n",
        "        # Add labels to the plot\n",
        "        for i in range(len(self.matrix)):\n",
        "            for j in range(len(self.matrix[i])):\n",
        "                label = self.labels[i][j]\n",
        "                if label in shortest_path:  # Highlight nodes in the shortest path\n",
        "                    plt.text(j, i, str(label), ha='center', va='center', color='red')\n",
        "                #else:  # Optionally, display all nodes\n",
        "                #   plt.text(j, i, str(label), ha='center', va='center', color='black')\n",
        "\n",
        "        plt.axis('off')  # Remove the axis\n",
        "        plt.show()\n"
      ],
      "metadata": {
        "id": "rr1OYMC-JZHp"
      },
      "execution_count": 138,
      "outputs": []
    },
    {
      "cell_type": "markdown",
      "source": [
        "This function, plot_graph, takes a graph object as input and visualizes it using NetworkX and Matplotlib. It iterates over the nodes in the graph's node_info dictionary to add nodes to the graph with their labels as identifiers and determines node colors based on their values. It then adds edges to the graph based on the adjacency list. Finally, it uses the spring layout algorithm to generate node positions, draws the graph with specified visual properties, and displays the plot with the title \"Maze Graph\"."
      ],
      "metadata": {
        "id": "WqVYkAM7JnEW"
      }
    },
    {
      "cell_type": "code",
      "source": [
        "def plot_graph(graph):\n",
        "    # Create a new graph object\n",
        "    G = nx.Graph()\n",
        "\n",
        "    # Initialize an empty list to store node colors\n",
        "    node_colors = []\n",
        "\n",
        "    # Iterate over each node in the graph's node_info dictionary\n",
        "    for node, info in graph.node_info.items():\n",
        "        # Add nodes to the graph using their labels as identifiers\n",
        "        G.add_node(info['label'])\n",
        "\n",
        "        # Determine node color based on node value\n",
        "        if info['value'] == 0:\n",
        "            node_colors.append('blue')  # Blue color for value 0\n",
        "        elif info['value'] == 2:\n",
        "            node_colors.append('yellow')  # Yellow color for value 2\n",
        "        elif info['value'] == 3:\n",
        "            node_colors.append('green')  # Green color for value 3\n",
        "\n",
        "    # Add edges to the graph based on the adjacency list\n",
        "    for node, neighbors in graph.adj_list.items():\n",
        "        for neighbor in neighbors:\n",
        "            G.add_edge(node, neighbor)\n",
        "\n",
        "    # Generate node positions using the spring layout algorithm\n",
        "    pos = nx.spring_layout(G)\n",
        "\n",
        "    # Draw the graph with labels, node colors, bold font weight, gray edge color, and specified arrow size\n",
        "    nx.draw(G, pos, with_labels=True, node_color=node_colors, font_weight='bold', edge_color='gray', linewidths=1,\n",
        "            arrowsize=20)\n",
        "\n",
        "    # Set the title of the plot\n",
        "    plt.title(\"Maze Graph\")\n",
        "\n",
        "    # Display the plot\n",
        "    plt.show()\n"
      ],
      "metadata": {
        "id": "lmiMJePDDGPf"
      },
      "execution_count": 139,
      "outputs": []
    },
    {
      "cell_type": "markdown",
      "source": [
        "## Create Maze and Graph"
      ],
      "metadata": {
        "id": "bWluJ4IhDU9H"
      }
    },
    {
      "cell_type": "markdown",
      "source": [
        "The read_matrix_from_file function reads a matrix from a text file line by line, parsing each line into a list of integers and appending it to the matrix. It returns the resulting matrix.\n",
        "\n",
        "The generate_labels function generates labels for each cell in the input matrix. It assigns a unique label to each cell, starting from 1, and returns the resulting labels as a list of lists."
      ],
      "metadata": {
        "id": "vKRo24IpJziB"
      }
    },
    {
      "cell_type": "code",
      "source": [
        "def read_matrix_from_file(file_path):\n",
        "\n",
        "    matrix = []\n",
        "    with open(file_path, 'r') as file:\n",
        "        for line in file:\n",
        "            row = list(map(int, line.strip()[1:-1].split(', ')))\n",
        "            matrix.append(row)\n",
        "    return matrix\n",
        "\n",
        "def generate_labels(matrix):\n",
        "\n",
        "    labels = []\n",
        "    count = 1\n",
        "    for i in range(len(matrix)):\n",
        "        row_labels = []\n",
        "        for j in range(len(matrix[i])):\n",
        "            row_labels.append(count)\n",
        "            count += 1\n",
        "        labels.append(row_labels)\n",
        "    return labels"
      ],
      "metadata": {
        "id": "LzM2HWMtDb2R"
      },
      "execution_count": 127,
      "outputs": []
    },
    {
      "cell_type": "code",
      "source": [
        "# Read the matrix from a text file\n",
        "file_path = \"/content/drive/MyDrive/IA/maze.txt\"  # Update with your file path\n",
        "matrix = read_matrix_from_file(file_path)\n",
        "\n",
        "# Generate labels for the matrix\n",
        "labels = generate_labels(matrix)\n",
        "\n",
        "# Build the graph\n",
        "builder = MazeGraphBuilder(matrix, labels)"
      ],
      "metadata": {
        "id": "d4ZA_JRtDe64"
      },
      "execution_count": 128,
      "outputs": []
    },
    {
      "cell_type": "code",
      "source": [
        "builder.visualize_maze()"
      ],
      "metadata": {
        "colab": {
          "base_uri": "https://localhost:8080/",
          "height": 406
        },
        "id": "dq4pLCb6DhaB",
        "outputId": "64b7778c-5237-4322-eeba-0d287d617c07"
      },
      "execution_count": 129,
      "outputs": [
        {
          "output_type": "display_data",
          "data": {
            "text/plain": [
              "<Figure size 640x480 with 1 Axes>"
            ],
            "image/png": "[encoded data removed]"
          },
          "metadata": {}
        }
      ]
    },
    {
      "cell_type": "code",
      "source": [
        "graph = builder.get_graph()\n",
        "\n",
        "# Print the graph\n",
        "graph.print_graph()"
      ],
      "metadata": {
        "colab": {
          "base_uri": "https://localhost:8080/"
        },
        "id": "83MprwDJJ4bH",
        "outputId": "1412553e-fb8f-40b1-8381-82e7906b0bbb"
      },
      "execution_count": 140,
      "outputs": [
        {
          "output_type": "stream",
          "name": "stdout",
          "text": [
            "Node 1: [11]\n",
            "Node 5: [6]\n",
            "Node 6: [5]\n",
            "Node 11: [12, 1]\n",
            "Node 12: [13, 11]\n",
            "Node 13: [12, 23]\n",
            "Node 17: [18, 27]\n",
            "Node 18: [17]\n",
            "Node 23: [24, 13]\n",
            "Node 24: [25, 23]\n",
            "Node 25: [24, 35]\n",
            "Node 27: [37, 17]\n",
            "Node 35: [45, 25]\n",
            "Node 37: [47, 27]\n",
            "Node 43: [53]\n",
            "Node 45: [55, 35]\n",
            "Node 47: [48, 37]\n",
            "Node 48: [47, 58]\n",
            "Node 51: [52]\n",
            "Node 52: [53, 51]\n",
            "Node 53: [52, 43]\n",
            "Node 55: [56, 45]\n",
            "Node 56: [55, 66]\n",
            "Node 58: [68, 48]\n",
            "Node 66: [56]\n",
            "Node 68: [58]\n",
            "Node 72: [73]\n",
            "Node 73: [74, 72]\n",
            "Node 74: [75, 73]\n",
            "Node 75: [74]\n",
            "Node 79: [89]\n",
            "Node 89: [79]\n"
          ]
        }
      ]
    },
    {
      "cell_type": "code",
      "source": [
        "# Plot the graph\n",
        "plot_graph(graph)"
      ],
      "metadata": {
        "colab": {
          "base_uri": "https://localhost:8080/",
          "height": 539
        },
        "id": "bvZesij6DlMt",
        "outputId": "e4888e0a-e6da-4732-bb89-28d31bb6f324"
      },
      "execution_count": 130,
      "outputs": [
        {
          "output_type": "display_data",
          "data": {
            "text/plain": [
              "<Figure size 640x480 with 1 Axes>"
            ],
            "image/png": "[encoded data removed]"
          },
          "metadata": {}
        }
      ]
    },
    {
      "cell_type": "markdown",
      "source": [
        "## Paths"
      ],
      "metadata": {
        "id": "pSwnQrSuEi3T"
      }
    },
    {
      "cell_type": "markdown",
      "source": [
        "### BFS ans DFS"
      ],
      "metadata": {
        "id": "glG-eDRULM_g"
      }
    },
    {
      "cell_type": "markdown",
      "source": [
        "1. **Breadth-First Search (BFS):**\n",
        "  \n",
        "  BFS is an algorithm used to traverse or search a graph or tree data structure. It starts at a given source node and explores all the neighbor nodes at the present depth before moving on to the nodes at the next depth level. BFS employs a queue data structure to keep track of the nodes to visit next.\n",
        "\n",
        "  **Process of BFS:**\n",
        "  1. Start with a queue containing the source node.\n",
        "  2. While the queue is not empty, do the following:\n",
        "    - Dequeue a node from the front of the queue.\n",
        "    - Visit the dequeued node.\n",
        "    - Enqueue all its neighbors that have not been visited and mark them as visited.\n",
        "  3. Repeat step 2 until the queue becomes empty.\n",
        "\n",
        "  **Key Characteristics:**\n",
        "  - BFS explores all nodes at a given depth level before moving to the next level.\n",
        "  - It guarantees the shortest path from the source to all reachable nodes in an unweighted graph.\n"
      ],
      "metadata": {
        "id": "3KzHMkw1Ka0D"
      }
    },
    {
      "cell_type": "markdown",
      "source": [
        "2. **Depth-First Search (DFS):**\n",
        "\n",
        "  DFS is another algorithm used for traversing or searching a graph or tree data structure. Unlike BFS, DFS explores as far as possible along each branch before backtracking. It employs a stack data structure or recursive function calls to keep track of the nodes to visit next.\n",
        "\n",
        "  **Process of DFS:**\n",
        "  1. Start with the source node.\n",
        "  2. Visit the source node and mark it as visited.\n",
        "  3. Recursively visit each neighbor of the current node that has not been visited.\n",
        "  4. Repeat step 3 for each unvisited neighbor until all nodes have been visited.\n",
        "\n",
        "  **Key Characteristics:**\n",
        "  - DFS explores as deep as possible along each branch before backtracking.\n",
        "  - It may not find the shortest path from the source to a destination.\n",
        "  - DFS is often implemented using recursion, but it can also be implemented iteratively using a stack data structure."
      ],
      "metadata": {
        "id": "mh_Dxd2RK6sp"
      }
    },
    {
      "cell_type": "markdown",
      "source": [
        "![Difference between BFS and DFS - GeeksforGeeks](https://media.geeksforgeeks.org/wp-content/uploads/20240219134945/bfs-vs-dfs-(1).png)\n"
      ],
      "metadata": {
        "id": "iEHHEO1UFVJw"
      }
    },
    {
      "cell_type": "code",
      "source": [
        "graph = builder.get_graph()\n",
        "\n",
        "start_node = 1\n",
        "goal_node = 56\n",
        "\n",
        "print(\"BFS from\", start_node, \"to\", goal_node)\n",
        "graph.bfs(start_node, goal_node)\n",
        "print(\"\\nDFS from\", start_node, \"to\", goal_node)\n",
        "graph.dfs(start_node, goal_node)"
      ],
      "metadata": {
        "colab": {
          "base_uri": "https://localhost:8080/"
        },
        "id": "77Q1NZzpFd5s",
        "outputId": "3c061ebe-5411-4230-f5bc-7cad0c6e08fb"
      },
      "execution_count": 133,
      "outputs": [
        {
          "output_type": "stream",
          "name": "stdout",
          "text": [
            "BFS from 1 to 56\n",
            "Visited nodes: 1, 11, 12, 13, 23, 24, 25, 35, 45, 55, 56\n",
            "Path: 1 -> 11 -> 12 -> 13 -> 23 -> 24 -> 25 -> 35 -> 45 -> 55 -> 56\n",
            "\n",
            "DFS from 1 to 56\n",
            "Visited nodes: 1, 11, 12, 13, 23, 24, 25, 35, 45, 55, 56\n",
            "Path: 1 -> 11 -> 12 -> 13 -> 23 -> 24 -> 25 -> 35 -> 45 -> 55 -> 56\n"
          ]
        },
        {
          "output_type": "execute_result",
          "data": {
            "text/plain": [
              "True"
            ]
          },
          "metadata": {},
          "execution_count": 133
        }
      ]
    },
    {
      "cell_type": "markdown",
      "source": [
        "### Heuristic and A*"
      ],
      "metadata": {
        "id": "mhdlLidMLLkn"
      }
    },
    {
      "cell_type": "markdown",
      "source": [
        "1. **Heuristic Function:**\n",
        "   - A heuristic function provides an informed estimate of the cost from a given node to the goal node in a graph.\n",
        "   - In this case, the heuristic function calculates the shortest path distance (number of edges) from the current node to the goal node.\n",
        "   - It aims to guide the A* algorithm by providing a hint about which nodes to explore first, potentially leading to a more efficient search.\n",
        "   - If the current node is the goal node, the heuristic function returns 0, indicating that no further cost is required.\n",
        "   - If either the current node or the goal node is not reachable, the function returns infinity to signify that the goal is unreachable from the current node.\n",
        "   - Otherwise, it calculates the shortest path length from the current node to the goal node. This calculation typically involves employing algorithms like BFS in this case."
      ],
      "metadata": {
        "id": "E37f3VgaMPFs"
      }
    },
    {
      "cell_type": "code",
      "source": [
        "heuristic_list = graph.generate_heuristic_list(56)\n",
        "print (heuristic_list)"
      ],
      "metadata": {
        "colab": {
          "base_uri": "https://localhost:8080/"
        },
        "id": "80LA4Y8AFunr",
        "outputId": "ffc62d1d-6958-4bdd-9054-880ffe070414"
      },
      "execution_count": 134,
      "outputs": [
        {
          "output_type": "stream",
          "name": "stdout",
          "text": [
            "{1: 10, 5: inf, 6: inf, 11: 9, 12: 8, 13: 7, 17: inf, 18: inf, 23: 6, 24: 5, 25: 4, 27: inf, 35: 3, 37: inf, 43: inf, 45: 2, 47: inf, 48: inf, 51: inf, 52: inf, 53: inf, 55: 1, 56: 0, 58: inf, 66: 1, 68: inf, 72: inf, 73: inf, 74: inf, 75: inf, 79: inf, 89: inf}\n"
          ]
        }
      ]
    },
    {
      "cell_type": "markdown",
      "source": [
        "2. A* algorithm\n",
        "\n",
        "  * The A* algorithm is a pathfinding algorithm that combines the advantages of both Dijkstra's algorithm and greedy best-first search. It finds the shortest path from a start node to a goal node.\n",
        "  * In each iteration, the algorithm selects the node with the lowest total cost, which is the sum of the cost to reach the node (real_cost) and the estimated cost from that node to the goal (heuristic value).\n",
        "  * The open_list contains nodes to be explored, sorted by their total cost. The algorithm selects the node with the lowest total cost from this list.\n",
        "  * The closed_set keeps track of nodes that have already been visited to avoid revisiting them.\n",
        "  * The algorithm continues to explore nodes until it finds the goal node or exhausts all possible paths.\n",
        "  * The real_cost is calculated by incrementing the cost from the start node to the current node by one (assuming uniform edge cost).\n",
        "  * The estimated_cost is obtained from the heuristic_list, which contains heuristic values for all nodes based on the goal node.\n",
        "  * If a more optimal path to a node is found during exploration, the algorithm updates the open_list with the\n",
        "  new path and cost.\n",
        "  * If the goal node is found, the algorithm returns the path from the start node to the goal node."
      ],
      "metadata": {
        "id": "gV2qriGlNGny"
      }
    },
    {
      "cell_type": "code",
      "source": [
        "shortest_path = graph.a_estrella(1, 56, heuristic_list)\n",
        "print(\"Shortest Path:\", shortest_path)"
      ],
      "metadata": {
        "colab": {
          "base_uri": "https://localhost:8080/"
        },
        "id": "y43Q6ETmF1b9",
        "outputId": "b6f8c71f-6f5f-435e-f7d4-bad281f10715"
      },
      "execution_count": 135,
      "outputs": [
        {
          "output_type": "stream",
          "name": "stdout",
          "text": [
            "Shortest Path: [1, 11, 12, 13, 23, 24, 25, 35, 45, 55, 56]\n"
          ]
        }
      ]
    },
    {
      "cell_type": "code",
      "source": [
        "builder.solution_maze(shortest_path)"
      ],
      "metadata": {
        "colab": {
          "base_uri": "https://localhost:8080/",
          "height": 406
        },
        "id": "zvovxZq8F2Y0",
        "outputId": "4f813b4f-f0d1-4bf0-cc74-570bec46eca9"
      },
      "execution_count": 136,
      "outputs": [
        {
          "output_type": "display_data",
          "data": {
            "text/plain": [
              "<Figure size 640x480 with 1 Axes>"
            ],
            "image/png": "[encoded data removed]"
          },
          "metadata": {}
        }
      ]
    },
    {
      "cell_type": "markdown",
      "source": [
        "# **Solution 2**"
      ],
      "metadata": {
        "id": "Ap1YecYGAeSn"
      }
    },
    {
      "cell_type": "markdown",
      "source": [
        "## Maze"
      ],
      "metadata": {
        "id": "2aJ2x8Jvmveo"
      }
    },
    {
      "cell_type": "code",
      "source": [
        "# Define the matrix\n",
        "matrix = np.array([\n",
        "    [2, 0, 0, 0],\n",
        "    [0, 1, 1, 0],\n",
        "    [0, 1, 1, 0],\n",
        "    [0, 0, 3, 0],\n",
        "    [1, 1, 1, 1]\n",
        "])\n",
        "\n",
        "# Convert the matrix to coordinates\n",
        "coordinates = np.array([[(i, j) for j in range(matrix.shape[1])] for i in range(matrix.shape[0])])\n",
        "\n",
        "# Create dictionary of coordinates and values\n",
        "coordinates_values = {(i, j): matrix[i, j] for i in range(matrix.shape[0]) for j in range(matrix.shape[1])}\n",
        "\n",
        "# Create custom color map\n",
        "colors = ['white', 'lightgray', 'yellow', 'green']\n",
        "cmap = ListedColormap(colors)\n",
        "\n",
        "# Create the plot\n",
        "fig, axs = plt.subplots(1, 2, figsize=(10, 5))\n",
        "\n",
        "# Plot original matrix with specified colors\n",
        "axs[0].imshow(np.arange(matrix.size).reshape(matrix.shape), cmap=cmap, interpolation='nearest')\n",
        "\n",
        "# Add values from the original matrix\n",
        "for i in range(matrix.shape[0]):\n",
        "    for j in range(matrix.shape[1]):\n",
        "        color = colors[matrix[i, j]]\n",
        "        axs[0].add_patch(plt.Rectangle((j - 0.5, i - 0.5), 1, 1, color=color, edgecolor='black'))\n",
        "        axs[0].text(j, i, str(matrix[i, j]), ha='center', va='center')\n",
        "\n",
        "axs[0].set_title('Original Matrix')\n",
        "axs[0].grid(False)\n",
        "\n",
        "# Plot the coordinates matrix\n",
        "axs[1].imshow(matrix, cmap='gray', interpolation='nearest')\n",
        "\n",
        "# Add colors based on the dictionary of values\n",
        "for i in range(matrix.shape[0]):\n",
        "    for j in range(matrix.shape[1]):\n",
        "        value = coordinates_values[(i, j)]\n",
        "        color = colors[value]\n",
        "        axs[1].add_patch(plt.Rectangle((j - 0.5, i - 0.5), 1, 1, color=color, edgecolor='black'))\n",
        "        axs[1].text(j, i, str(coordinates[i, j]), ha='center', va='center')\n",
        "\n",
        "axs[1].set_title('Coordinates Matrix')\n",
        "axs[1].grid(False)\n",
        "\n",
        "plt.show()"
      ],
      "metadata": {
        "colab": {
          "base_uri": "https://localhost:8080/",
          "height": 556
        },
        "id": "PlB6mh5ZcPbW",
        "outputId": "6544e4d7-b99c-414b-a373-02699584331c"
      },
      "execution_count": 107,
      "outputs": [
        {
          "output_type": "stream",
          "name": "stderr",
          "text": [
            "<ipython-input-107-1187bd82ccfd>:30: UserWarning: Setting the 'color' property will override the edgecolor or facecolor properties.\n",
            "  axs[0].add_patch(plt.Rectangle((j - 0.5, i - 0.5), 1, 1, color=color, edgecolor='black'))\n",
            "<ipython-input-107-1187bd82ccfd>:44: UserWarning: Setting the 'color' property will override the edgecolor or facecolor properties.\n",
            "  axs[1].add_patch(plt.Rectangle((j - 0.5, i - 0.5), 1, 1, color=color, edgecolor='black'))\n"
          ]
        },
        {
          "output_type": "display_data",
          "data": {
            "text/plain": [
              "<Figure size 1000x500 with 2 Axes>"
            ],
            "image/png": "[encoded data removed]"
          },
          "metadata": {}
        }
      ]
    },
    {
      "cell_type": "code",
      "source": [
        "print(coordinates_values)"
      ],
      "metadata": {
        "colab": {
          "base_uri": "https://localhost:8080/"
        },
        "id": "qxR_8nAviDf3",
        "outputId": "bb3d95c6-9a2f-453b-a77e-83a541160436"
      },
      "execution_count": 108,
      "outputs": [
        {
          "output_type": "stream",
          "name": "stdout",
          "text": [
            "{(0, 0): 2, (0, 1): 0, (0, 2): 0, (0, 3): 0, (1, 0): 0, (1, 1): 1, (1, 2): 1, (1, 3): 0, (2, 0): 0, (2, 1): 1, (2, 2): 1, (2, 3): 0, (3, 0): 0, (3, 1): 0, (3, 2): 3, (3, 3): 0, (4, 0): 1, (4, 1): 1, (4, 2): 1, (4, 3): 1}\n"
          ]
        }
      ]
    },
    {
      "cell_type": "markdown",
      "source": [
        "## Class Graph"
      ],
      "metadata": {
        "id": "w2Y6e6P0m68J"
      }
    },
    {
      "cell_type": "code",
      "source": [
        "class Node:\n",
        "    def __init__(self, x, y, identifier):\n",
        "        # Initialize a node with its coordinates and identifier\n",
        "        self.x = x\n",
        "        self.y = y\n",
        "        self.identifier = identifier\n",
        "\n",
        "class Graph:\n",
        "    def __init__(self, coordinates_values):\n",
        "        # Initialize the graph with coordinates and build nodes and adjacency list\n",
        "        self.coordinates_values = coordinates_values\n",
        "        self.nodes = self._build_nodes()  # List of nodes\n",
        "        self.adjacency_list = self._build_adjacency_list()  # Dictionary representing adjacency list\n",
        "\n",
        "    def _build_nodes(self):\n",
        "        # Create nodes from given coordinates\n",
        "        nodes = []\n",
        "        for coord, identifier in self.coordinates_values.items():\n",
        "            node = Node(coord[0], coord[1], identifier)\n",
        "            nodes.append(node)\n",
        "        return nodes\n",
        "\n",
        "    def _build_adjacency_list(self):\n",
        "        # Build adjacency list for non-obstacle nodes\n",
        "        adjacency_list = {}\n",
        "\n",
        "        for node in self.nodes:\n",
        "            if node.identifier != 1:  # If not an obstacle\n",
        "                neighbors = self._get_neighbors(node)\n",
        "                adjacency_list[(node.x, node.y, node.identifier)] = neighbors\n",
        "\n",
        "        return adjacency_list\n",
        "\n",
        "    def _get_neighbors(self, node):\n",
        "        # Get neighbors of a node\n",
        "        neighbors = []\n",
        "\n",
        "        for dx, dy in [(-1, 0), (1, 0), (0, -1), (0, 1)]:\n",
        "            neighbor_x = node.x + dx\n",
        "            neighbor_y = node.y + dy\n",
        "            for other_node in self.nodes:\n",
        "                if other_node.x == neighbor_x and other_node.y == neighbor_y and other_node.identifier != 1:\n",
        "                    neighbors.append((other_node.x, other_node.y, other_node.identifier))\n",
        "\n",
        "        return neighbors\n",
        "\n",
        "    def print_adjacency_list(self):\n",
        "        # Print adjacency list for debugging\n",
        "        for node, connections in self.adjacency_list.items():\n",
        "            print(f\"Node: {node} - Connections: {connections}\")\n",
        "\n",
        "    def dfs(self, start, goal):\n",
        "        # Depth-first search algorithm\n",
        "        visited = set()\n",
        "        stack = [(start, [start])]\n",
        "\n",
        "        while stack:\n",
        "            current_vertex, path = stack.pop()\n",
        "            if current_vertex == goal:\n",
        "                return path\n",
        "            if current_vertex not in visited:\n",
        "                visited.add(current_vertex)\n",
        "                for next_vertex in self.adjacency_list[current_vertex]:\n",
        "                    stack.append((next_vertex, path + [next_vertex]))\n",
        "\n",
        "    def bfs(self, start, goal):\n",
        "        # Breadth-first search algorithm\n",
        "        visited = set()\n",
        "        queue = [(start, [start])]\n",
        "\n",
        "        while queue:\n",
        "            current_vertex, path = queue.pop(0)\n",
        "            if current_vertex == goal:\n",
        "                return path\n",
        "            if current_vertex not in visited:\n",
        "                visited.add(current_vertex)\n",
        "                for next_vertex in self.adjacency_list[current_vertex]:\n",
        "                    queue.append((next_vertex, path + [next_vertex]))\n",
        "\n",
        "    def heuristic(self, start, goal):\n",
        "        # Manhattan distance heuristic\n",
        "        return abs(start[0] - goal[0]) + abs(start[1] - goal[1])\n",
        "\n",
        "    def a_star(self, start, goal):\n",
        "        # A* search algorithm\n",
        "        frontier = []\n",
        "        heapq.heappush(frontier, (0, start))\n",
        "        came_from = {}\n",
        "        cost_so_far = {start: 0}\n",
        "\n",
        "        while frontier:\n",
        "            current_cost, current_vertex = heapq.heappop(frontier)\n",
        "\n",
        "            if current_vertex == goal:\n",
        "                break\n",
        "\n",
        "            for next_vertex in self.adjacency_list[current_vertex]:\n",
        "                new_cost = cost_so_far[current_vertex] + 1\n",
        "                if next_vertex not in cost_so_far or new_cost < cost_so_far[next_vertex]:\n",
        "                    cost_so_far[next_vertex] = new_cost\n",
        "                    priority = new_cost + self.heuristic(goal, next_vertex)\n",
        "                    heapq.heappush(frontier, (priority, next_vertex))\n",
        "                    came_from[next_vertex] = current_vertex\n",
        "\n",
        "        path = []\n",
        "        current_vertex = goal\n",
        "        while current_vertex != start:\n",
        "            path.append(current_vertex)\n",
        "            current_vertex = came_from[current_vertex]\n",
        "        path.append(start)\n",
        "        path.reverse()\n",
        "        return path\n",
        "\n",
        "    def plot_graph(self):\n",
        "        # Plot the graph using networkx and matplotlib\n",
        "        G = nx.Graph()\n",
        "        colors = {'0': 'lightblue', '2': 'yellow', '3': 'green'}  # Mapping of identifiers to colors\n",
        "        for node, connections in self.adjacency_list.items():\n",
        "            for connection in connections:\n",
        "                G.add_edge(node, connection)\n",
        "        pos = {node: (node[0], node[1]) for node in G.nodes()}  # Positioning nodes\n",
        "        node_colors = [colors[str(node[2])] for node in G.nodes()]  # Getting colors for nodes\n",
        "        nx.draw(G, pos, with_labels=True, font_weight='bold', node_color=node_colors, node_size=1000)  # Plotting\n",
        "        plt.show()\n"
      ],
      "metadata": {
        "id": "DeoU4ARKOxKr"
      },
      "execution_count": 141,
      "outputs": []
    },
    {
      "cell_type": "markdown",
      "source": [
        "## Paths and Plots"
      ],
      "metadata": {
        "id": "FoKCHV5IONLD"
      }
    },
    {
      "cell_type": "code",
      "source": [
        "graph = Graph(coordinates_values)\n",
        "\n",
        "# Print adjacency list\n",
        "graph.print_adjacency_list()"
      ],
      "metadata": {
        "colab": {
          "base_uri": "https://localhost:8080/"
        },
        "id": "DbUkznaD1bUr",
        "outputId": "7ee38b99-1459-4f0b-af75-2761dc14aee6"
      },
      "execution_count": 142,
      "outputs": [
        {
          "output_type": "stream",
          "name": "stdout",
          "text": [
            "Node: (0, 0, 2) - Connections: [(1, 0, 0), (0, 1, 0)]\n",
            "Node: (0, 1, 0) - Connections: [(0, 0, 2), (0, 2, 0)]\n",
            "Node: (0, 2, 0) - Connections: [(0, 1, 0), (0, 3, 0)]\n",
            "Node: (0, 3, 0) - Connections: [(1, 3, 0), (0, 2, 0)]\n",
            "Node: (1, 0, 0) - Connections: [(0, 0, 2), (2, 0, 0)]\n",
            "Node: (1, 3, 0) - Connections: [(0, 3, 0), (2, 3, 0)]\n",
            "Node: (2, 0, 0) - Connections: [(1, 0, 0), (3, 0, 0)]\n",
            "Node: (2, 3, 0) - Connections: [(1, 3, 0), (3, 3, 0)]\n",
            "Node: (3, 0, 0) - Connections: [(2, 0, 0), (3, 1, 0)]\n",
            "Node: (3, 1, 0) - Connections: [(3, 0, 0), (3, 2, 3)]\n",
            "Node: (3, 2, 3) - Connections: [(3, 1, 0), (3, 3, 0)]\n",
            "Node: (3, 3, 0) - Connections: [(2, 3, 0), (3, 2, 3)]\n"
          ]
        }
      ]
    },
    {
      "cell_type": "code",
      "source": [
        "graph.plot_graph()\n",
        "\n",
        "start_vertex = (0, 0, 2)\n",
        "goal_vertex = (3, 2, 3)\n",
        "# Calculate and print pathS\n",
        "print(\"DFS Path:\", graph.dfs(start_vertex, goal_vertex))\n",
        "print(\"BFS Path:\", graph.bfs(start_vertex, goal_vertex))\n",
        "print(\"A* Path:\", graph.a_star(start_vertex, goal_vertex))"
      ],
      "metadata": {
        "colab": {
          "base_uri": "https://localhost:8080/",
          "height": 567
        },
        "id": "I3WLe6862vbX",
        "outputId": "640ac01f-7bd7-418e-87eb-2a3b73ef8800"
      },
      "execution_count": 143,
      "outputs": [
        {
          "output_type": "display_data",
          "data": {
            "text/plain": [
              "<Figure size 640x480 with 1 Axes>"
            ],
            "image/png": "[encoded data removed]"
          },
          "metadata": {}
        },
        {
          "output_type": "stream",
          "name": "stdout",
          "text": [
            "DFS Path: [(0, 0, 2), (0, 1, 0), (0, 2, 0), (0, 3, 0), (1, 3, 0), (2, 3, 0), (3, 3, 0), (3, 2, 3)]\n",
            "BFS Path: [(0, 0, 2), (1, 0, 0), (2, 0, 0), (3, 0, 0), (3, 1, 0), (3, 2, 3)]\n",
            "A* Path: [(0, 0, 2), (1, 0, 0), (2, 0, 0), (3, 0, 0), (3, 1, 0), (3, 2, 3)]\n"
          ]
        }
      ]
    }
  ]
}